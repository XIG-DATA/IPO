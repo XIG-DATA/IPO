{
 "cells": [
  {
   "cell_type": "code",
   "execution_count": 1,
   "metadata": {
    "collapsed": true
   },
   "outputs": [],
   "source": [
    "import os, sys\n",
    "from datetime import datetime\n",
    "import pandas as pd "
   ]
  },
  {
   "cell_type": "code",
   "execution_count": 2,
   "metadata": {
    "collapsed": false
   },
   "outputs": [
    {
     "name": "stderr",
     "output_type": "stream",
     "text": [
      "/Users/zaikunxu/Library/Python/2.7/lib/python/site-packages/IPython/core/interactiveshell.py:2717: DtypeWarning: Columns (9,10) have mixed types. Specify dtype option on import or set low_memory=False.\n",
      "  interactivity=interactivity, compiler=compiler, result=result)\n"
     ]
    }
   ],
   "source": [
    "data = pd.read_csv('NEW_NAMECHANGE.csv')"
   ]
  },
  {
   "cell_type": "code",
   "execution_count": 3,
   "metadata": {
    "collapsed": false
   },
   "outputs": [
    {
     "data": {
      "text/html": [
       "<div>\n",
       "<table border=\"1\" class=\"dataframe\">\n",
       "  <thead>\n",
       "    <tr style=\"text-align: right;\">\n",
       "      <th></th>\n",
       "      <th>Unnamed: 0</th>\n",
       "      <th>CANTON</th>\n",
       "      <th>CITY</th>\n",
       "      <th>CITY_2</th>\n",
       "      <th>CITY_OLD</th>\n",
       "      <th>EVENT</th>\n",
       "      <th>EVENT.DESCR</th>\n",
       "      <th>EVENT.TAG</th>\n",
       "      <th>EVENT_nr</th>\n",
       "      <th>FIRM.UID</th>\n",
       "      <th>...</th>\n",
       "      <th>NAME</th>\n",
       "      <th>NAME_OLD</th>\n",
       "      <th>NOTICE_REF</th>\n",
       "      <th>PUBDATE</th>\n",
       "      <th>Quarter</th>\n",
       "      <th>SUBMITDATE</th>\n",
       "      <th>file</th>\n",
       "      <th>month</th>\n",
       "      <th>quarter</th>\n",
       "      <th>year</th>\n",
       "    </tr>\n",
       "  </thead>\n",
       "  <tbody>\n",
       "    <tr>\n",
       "      <th>0</th>\n",
       "      <td>1</td>\n",
       "      <td>ZH</td>\n",
       "      <td>Oberengstringen</td>\n",
       "      <td>Bern</td>\n",
       "      <td>Oberengstringen</td>\n",
       "      <td>STATUS.CHANGED</td>\n",
       "      <td>New Company</td>\n",
       "      <td>HR01</td>\n",
       "      <td>1.0</td>\n",
       "      <td>CHE480399774</td>\n",
       "      <td>...</td>\n",
       "      <td>ABA Aviation Management GmbH</td>\n",
       "      <td>ABA Aviation Management GmbH</td>\n",
       "      <td>ts160329154314</td>\n",
       "      <td>2016-03-31</td>\n",
       "      <td>2016 Q1</td>\n",
       "      <td>29.03.2016</td>\n",
       "      <td>HR.02750817.xml</td>\n",
       "      <td>3</td>\n",
       "      <td>1</td>\n",
       "      <td>2016</td>\n",
       "    </tr>\n",
       "    <tr>\n",
       "      <th>1</th>\n",
       "      <td>2</td>\n",
       "      <td>ZH</td>\n",
       "      <td>Z�rich</td>\n",
       "      <td>Bern</td>\n",
       "      <td>Z�rich</td>\n",
       "      <td>STATUS.CHANGED</td>\n",
       "      <td>New Company</td>\n",
       "      <td>HR01</td>\n",
       "      <td>1.0</td>\n",
       "      <td>CHE270766798</td>\n",
       "      <td>...</td>\n",
       "      <td>Hyposcout AG</td>\n",
       "      <td>Hyposcout AG</td>\n",
       "      <td>ts160329154314</td>\n",
       "      <td>2016-03-31</td>\n",
       "      <td>2016 Q1</td>\n",
       "      <td>29.03.2016</td>\n",
       "      <td>HR.02750819.xml</td>\n",
       "      <td>3</td>\n",
       "      <td>1</td>\n",
       "      <td>2016</td>\n",
       "    </tr>\n",
       "    <tr>\n",
       "      <th>2</th>\n",
       "      <td>3</td>\n",
       "      <td>ZH</td>\n",
       "      <td>Z�rich</td>\n",
       "      <td>Bern</td>\n",
       "      <td>Z�rich</td>\n",
       "      <td>STATUS.CHANGED</td>\n",
       "      <td>New Company</td>\n",
       "      <td>HR01</td>\n",
       "      <td>1.0</td>\n",
       "      <td>CHE492135124</td>\n",
       "      <td>...</td>\n",
       "      <td>Ikarus Tours AG</td>\n",
       "      <td>Ikarus Tours AG</td>\n",
       "      <td>ts160329154314</td>\n",
       "      <td>2016-03-31</td>\n",
       "      <td>2016 Q1</td>\n",
       "      <td>29.03.2016</td>\n",
       "      <td>HR.02750821.xml</td>\n",
       "      <td>3</td>\n",
       "      <td>1</td>\n",
       "      <td>2016</td>\n",
       "    </tr>\n",
       "    <tr>\n",
       "      <th>3</th>\n",
       "      <td>4</td>\n",
       "      <td>ZH</td>\n",
       "      <td>Eglisau</td>\n",
       "      <td>Bern</td>\n",
       "      <td>Eglisau</td>\n",
       "      <td>STATUS.CHANGED</td>\n",
       "      <td>New Company</td>\n",
       "      <td>HR01</td>\n",
       "      <td>1.0</td>\n",
       "      <td>CHE295211051</td>\n",
       "      <td>...</td>\n",
       "      <td>IN BLOOM, Inh. Salathe</td>\n",
       "      <td>IN BLOOM, Inh. Salathe</td>\n",
       "      <td>ts160329154314</td>\n",
       "      <td>2016-03-31</td>\n",
       "      <td>2016 Q1</td>\n",
       "      <td>29.03.2016</td>\n",
       "      <td>HR.02750823.xml</td>\n",
       "      <td>3</td>\n",
       "      <td>1</td>\n",
       "      <td>2016</td>\n",
       "    </tr>\n",
       "    <tr>\n",
       "      <th>4</th>\n",
       "      <td>5</td>\n",
       "      <td>ZH</td>\n",
       "      <td>R�mlang</td>\n",
       "      <td>Bern</td>\n",
       "      <td>R�mlang</td>\n",
       "      <td>STATUS.CHANGED</td>\n",
       "      <td>New Company</td>\n",
       "      <td>HR01</td>\n",
       "      <td>1.0</td>\n",
       "      <td>CHE244058052</td>\n",
       "      <td>...</td>\n",
       "      <td>KIOSK GNT Gnanasekeram Bernard Navarajakumar</td>\n",
       "      <td>KIOSK GNT Gnanasekeram Bernard Navarajakumar</td>\n",
       "      <td>ts160329154314</td>\n",
       "      <td>2016-03-31</td>\n",
       "      <td>2016 Q1</td>\n",
       "      <td>29.03.2016</td>\n",
       "      <td>HR.02750825.xml</td>\n",
       "      <td>3</td>\n",
       "      <td>1</td>\n",
       "      <td>2016</td>\n",
       "    </tr>\n",
       "  </tbody>\n",
       "</table>\n",
       "<p>5 rows × 28 columns</p>\n",
       "</div>"
      ],
      "text/plain": [
       "   Unnamed: 0 CANTON             CITY CITY_2         CITY_OLD           EVENT  \\\n",
       "0           1     ZH  Oberengstringen   Bern  Oberengstringen  STATUS.CHANGED   \n",
       "1           2     ZH           Z�rich   Bern           Z�rich  STATUS.CHANGED   \n",
       "2           3     ZH           Z�rich   Bern           Z�rich  STATUS.CHANGED   \n",
       "3           4     ZH          Eglisau   Bern          Eglisau  STATUS.CHANGED   \n",
       "4           5     ZH          R�mlang   Bern          R�mlang  STATUS.CHANGED   \n",
       "\n",
       "   EVENT.DESCR EVENT.TAG  EVENT_nr      FIRM.UID  ...   \\\n",
       "0  New Company      HR01       1.0  CHE480399774  ...    \n",
       "1  New Company      HR01       1.0  CHE270766798  ...    \n",
       "2  New Company      HR01       1.0  CHE492135124  ...    \n",
       "3  New Company      HR01       1.0  CHE295211051  ...    \n",
       "4  New Company      HR01       1.0  CHE244058052  ...    \n",
       "\n",
       "                                           NAME  \\\n",
       "0                  ABA Aviation Management GmbH   \n",
       "1                                  Hyposcout AG   \n",
       "2                               Ikarus Tours AG   \n",
       "3                        IN BLOOM, Inh. Salathe   \n",
       "4  KIOSK GNT Gnanasekeram Bernard Navarajakumar   \n",
       "\n",
       "                                       NAME_OLD      NOTICE_REF     PUBDATE  \\\n",
       "0                  ABA Aviation Management GmbH  ts160329154314  2016-03-31   \n",
       "1                                  Hyposcout AG  ts160329154314  2016-03-31   \n",
       "2                               Ikarus Tours AG  ts160329154314  2016-03-31   \n",
       "3                        IN BLOOM, Inh. Salathe  ts160329154314  2016-03-31   \n",
       "4  KIOSK GNT Gnanasekeram Bernard Navarajakumar  ts160329154314  2016-03-31   \n",
       "\n",
       "   Quarter  SUBMITDATE             file month quarter  year  \n",
       "0  2016 Q1  29.03.2016  HR.02750817.xml     3       1  2016  \n",
       "1  2016 Q1  29.03.2016  HR.02750819.xml     3       1  2016  \n",
       "2  2016 Q1  29.03.2016  HR.02750821.xml     3       1  2016  \n",
       "3  2016 Q1  29.03.2016  HR.02750823.xml     3       1  2016  \n",
       "4  2016 Q1  29.03.2016  HR.02750825.xml     3       1  2016  \n",
       "\n",
       "[5 rows x 28 columns]"
      ]
     },
     "execution_count": 3,
     "metadata": {},
     "output_type": "execute_result"
    }
   ],
   "source": [
    "data.head()"
   ]
  },
  {
   "cell_type": "code",
   "execution_count": 4,
   "metadata": {
    "collapsed": false
   },
   "outputs": [],
   "source": [
    "def parse_time(x):\n",
    "    dt = datetime.strptime(x, \"%Y-%m-%d\")\n",
    "    return dt.year\n",
    "\n",
    "data['year'] = data['PUBDATE'].apply(parse_time)"
   ]
  },
  {
   "cell_type": "code",
   "execution_count": 5,
   "metadata": {
    "collapsed": false
   },
   "outputs": [],
   "source": [
    "year_count = data.groupby('year').size()"
   ]
  },
  {
   "cell_type": "code",
   "execution_count": 6,
   "metadata": {
    "collapsed": false
   },
   "outputs": [
    {
     "data": {
      "text/plain": [
       "year\n",
       "2002    32061\n",
       "2003    33819\n",
       "2004    36297\n",
       "2005    35624\n",
       "2006    36085\n",
       "2007    38389\n",
       "2008    39270\n",
       "2009    37684\n",
       "2010    43022\n",
       "2011    41986\n",
       "2012    41578\n",
       "2013    42735\n",
       "2014    43715\n",
       "2015    43253\n",
       "2016    10977\n",
       "dtype: int64"
      ]
     },
     "execution_count": 6,
     "metadata": {},
     "output_type": "execute_result"
    }
   ],
   "source": [
    "year_count"
   ]
  },
  {
   "cell_type": "code",
   "execution_count": 7,
   "metadata": {
    "collapsed": true
   },
   "outputs": [],
   "source": [
    "import matplotlib.pyplot as plt\n",
    "plt.hist(year_count.tolist(), 100)\n",
    "plt.savefig('ex.jpg')\n",
    "plt.close()"
   ]
  },
  {
   "cell_type": "code",
   "execution_count": 8,
   "metadata": {
    "collapsed": true
   },
   "outputs": [],
   "source": [
    "year= range(2,17)\n",
    "plt.bar(year, year_count.tolist())\n",
    "plt.show()\n",
    "plt.savefig('ex.jpg')\n",
    "plt.close()"
   ]
  },
  {
   "cell_type": "code",
   "execution_count": null,
   "metadata": {
    "collapsed": true
   },
   "outputs": [],
   "source": []
  },
  {
   "cell_type": "code",
   "execution_count": null,
   "metadata": {
    "collapsed": true
   },
   "outputs": [],
   "source": []
  }
 ],
 "metadata": {
  "kernelspec": {
   "display_name": "Python 2",
   "language": "python",
   "name": "python2"
  },
  "language_info": {
   "codemirror_mode": {
    "name": "ipython",
    "version": 2
   },
   "file_extension": ".py",
   "mimetype": "text/x-python",
   "name": "python",
   "nbconvert_exporter": "python",
   "pygments_lexer": "ipython2",
   "version": "2.7.13"
  }
 },
 "nbformat": 4,
 "nbformat_minor": 2
}
